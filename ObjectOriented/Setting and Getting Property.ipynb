{
 "cells": [
  {
   "cell_type": "markdown",
   "metadata": {},
   "source": [
    "# Setting and Getting Property"
   ]
  },
  {
   "cell_type": "markdown",
   "metadata": {},
   "source": [
    "The class with a property looks like this:\n",
    "\n",
    "A method that is used for getting a value is decorated with **@property**. We put this line directly in front of the header. The method which has to function as the setter is decorated with **@name.setter**. If the function had been called \"name\", we would have to decorate it with **@name.setter**.     \n",
    "      \n",
    "The interesting thing is that we wrote \"two\" methods with the same name and a different number of parameters def **name(self)** and **def name(self,val)**. We have learned in a previous chapter of our course that this is not possible. It works here due to the decorating:"
   ]
  },
  {
   "cell_type": "markdown",
   "metadata": {},
   "source": [
    "## Example "
   ]
  },
  {
   "cell_type": "code",
   "execution_count": 7,
   "metadata": {},
   "outputs": [],
   "source": [
    "class lovely():\n",
    "    def __init__(self):\n",
    "        self._name = \"Albert\"\n",
    "\n",
    "   # GETTER     \n",
    "    @property\n",
    "    def name(self):\n",
    "        return self._name + \" is awesome\"\n",
    "\n",
    "    # SETTER\n",
    "    @name.setter\n",
    "    def name(self, val):\n",
    "        self._name = val"
   ]
  },
  {
   "cell_type": "code",
   "execution_count": 8,
   "metadata": {},
   "outputs": [],
   "source": [
    "gao = lovely()"
   ]
  },
  {
   "cell_type": "code",
   "execution_count": 9,
   "metadata": {},
   "outputs": [
    {
     "name": "stdout",
     "output_type": "stream",
     "text": [
      "Albert is awesome\n"
     ]
    }
   ],
   "source": [
    "print(gao.name)"
   ]
  },
  {
   "cell_type": "code",
   "execution_count": 10,
   "metadata": {},
   "outputs": [],
   "source": [
    "gao.name = \"Gao\""
   ]
  },
  {
   "cell_type": "code",
   "execution_count": 11,
   "metadata": {},
   "outputs": [
    {
     "name": "stdout",
     "output_type": "stream",
     "text": [
      "Gao is awesome\n"
     ]
    }
   ],
   "source": [
    "print(gao.name)"
   ]
  }
 ],
 "metadata": {
  "kernelspec": {
   "display_name": "Python 3",
   "language": "python",
   "name": "python3"
  },
  "language_info": {
   "codemirror_mode": {
    "name": "ipython",
    "version": 3
   },
   "file_extension": ".py",
   "mimetype": "text/x-python",
   "name": "python",
   "nbconvert_exporter": "python",
   "pygments_lexer": "ipython3",
   "version": "3.7.4"
  }
 },
 "nbformat": 4,
 "nbformat_minor": 2
}
