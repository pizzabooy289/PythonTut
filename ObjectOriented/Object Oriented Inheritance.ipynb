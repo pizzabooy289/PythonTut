{
 "cells": [
  {
   "cell_type": "markdown",
   "metadata": {},
   "source": [
    "# Object Oriented Inheritance"
   ]
  },
  {
   "cell_type": "markdown",
   "metadata": {},
   "source": [
    "   Inheritance allows us to define a class that inherits all the methods and properties of another class.   \n",
    "\n",
    "* The parent class is the class being inherited from, also called a base class.    \n",
    "\n",
    "* The child class is the class that inherits from another class, also called the derived class. \n"
   ]
  },
  {
   "cell_type": "code",
   "execution_count": 1,
   "metadata": {},
   "outputs": [],
   "source": [
    "class Employee(object):\n",
    "\n",
    "    def __init__(self, _name_first, _name_last):\n",
    "        self.name_first = _name_first\n",
    "        self.name_last = _name_last\n",
    "        self.hours = 0\n",
    "\n",
    "    def calculate_wage(self):\n",
    "        return self.hours * 20.00\n",
    "\n",
    "    def name(self):\n",
    "        return self.name_first + \" \" + self.name_last"
   ]
  },
  {
   "cell_type": "code",
   "execution_count": 2,
   "metadata": {},
   "outputs": [],
   "source": [
    "class PartTimeEmployee(Employee):\n",
    "\n",
    "    def calculate_wage(self):\n",
    "        return self.hours * 12.00"
   ]
  },
  {
   "cell_type": "markdown",
   "metadata": {},
   "source": [
    "## Testing Full-Time Employee "
   ]
  },
  {
   "cell_type": "code",
   "execution_count": 3,
   "metadata": {},
   "outputs": [],
   "source": [
    "milton=Employee(\"Milton\", \"Smith\")"
   ]
  },
  {
   "cell_type": "code",
   "execution_count": 8,
   "metadata": {},
   "outputs": [],
   "source": [
    "milton.hours = 10"
   ]
  },
  {
   "cell_type": "code",
   "execution_count": 9,
   "metadata": {},
   "outputs": [
    {
     "name": "stdout",
     "output_type": "stream",
     "text": [
      "Employee Name: Milton Smith\n"
     ]
    }
   ],
   "source": [
    "print(\"Employee Name: \" + milton.name())"
   ]
  },
  {
   "cell_type": "code",
   "execution_count": 10,
   "metadata": {},
   "outputs": [
    {
     "name": "stdout",
     "output_type": "stream",
     "text": [
      "Monthly Salary: 200.0\n"
     ]
    }
   ],
   "source": [
    "print(\"Monthly Salary: \" + str( milton.calculate_wage()))"
   ]
  },
  {
   "cell_type": "markdown",
   "metadata": {},
   "source": [
    "## Testing Part-Time Employee"
   ]
  },
  {
   "cell_type": "code",
   "execution_count": 11,
   "metadata": {},
   "outputs": [],
   "source": [
    "ken=PartTimeEmployee(\"Ken\", \"Jones\")"
   ]
  },
  {
   "cell_type": "code",
   "execution_count": 12,
   "metadata": {},
   "outputs": [],
   "source": [
    "ken.hours = 12"
   ]
  },
  {
   "cell_type": "code",
   "execution_count": 13,
   "metadata": {},
   "outputs": [
    {
     "name": "stdout",
     "output_type": "stream",
     "text": [
      "Employee Name: Ken Jones\n"
     ]
    }
   ],
   "source": [
    "print(\"Employee Name: \" + ken.name())"
   ]
  },
  {
   "cell_type": "code",
   "execution_count": 14,
   "metadata": {},
   "outputs": [
    {
     "name": "stdout",
     "output_type": "stream",
     "text": [
      "Monthly Salary: 144.0\n"
     ]
    }
   ],
   "source": [
    "print(\"Monthly Salary: \" + str( ken.calculate_wage())) "
   ]
  }
 ],
 "metadata": {
  "kernelspec": {
   "display_name": "Python 3",
   "language": "python",
   "name": "python3"
  },
  "language_info": {
   "codemirror_mode": {
    "name": "ipython",
    "version": 3
   },
   "file_extension": ".py",
   "mimetype": "text/x-python",
   "name": "python",
   "nbconvert_exporter": "python",
   "pygments_lexer": "ipython3",
   "version": "3.7.4"
  }
 },
 "nbformat": 4,
 "nbformat_minor": 2
}
