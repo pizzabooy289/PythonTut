{
 "cells": [
  {
   "cell_type": "markdown",
   "metadata": {},
   "source": [
    "# Build In "
   ]
  },
  {
   "cell_type": "markdown",
   "metadata": {},
   "source": [
    "Python has the following data types built-in by default, in these categories:\n",
    "\n",
    "| Category     | Class         |Example          |\n",
    "|-----------|--------------|-----------------|\n",
    "| Text      | str          | \"Hello World\"   |\n",
    "| Numeric   | int          | 20              |\n",
    "| Numeric   | float        | 20.8            |\n",
    "| Numeric   | complex      | 3+1j            |\n",
    "| Sequence  | list         | [\"apple\", \"banana\", \"cherry\"]|\n",
    "| Sequence  | tuple        | (\"apple\", \"banana\", \"cherry\")|\n",
    "| Sequence  | range        | range(6)|\n",
    "| Mapping   | dict         | {\"name\" : \"John\", \"age\" : 36}|\n",
    "| Set       | set          |{\"apple\", \"banana\", \"cherry\"}|\n",
    "| Set       | frozenset    | frozenset({\"apple\", \"banana\", \"cherry\"})|\n",
    "| Boolean   | Bool         | True|\n",
    "| Binary    | bytes        | b\"Hello\"|\n",
    "| Binary    | byteararry   | bytearray(5)|\n",
    "| Binary    | memoryview   | memoryview(bytes(5)) |\n",
    "\n",
    "We can use the **type()** function to know which class a variable or a value belongs to.   \n",
    "\n",
    "Similarly, the **isinstance()** function is used to check if an object belongs to a particular class."
   ]
  },
  {
   "cell_type": "code",
   "execution_count": 1,
   "metadata": {},
   "outputs": [
    {
     "name": "stdout",
     "output_type": "stream",
     "text": [
      "<class 'str'>\n",
      "'Hello, World!' is a STRING ? True\n"
     ]
    }
   ],
   "source": [
    "text_str = \"Hello, World!\"\n",
    "print(type(text_str))\n",
    "print ( \"'\" + text_str + \"' is a STRING ? \" + str(isinstance(text_str, str)) )"
   ]
  },
  {
   "cell_type": "code",
   "execution_count": 2,
   "metadata": {},
   "outputs": [
    {
     "name": "stdout",
     "output_type": "stream",
     "text": [
      "<class 'int'>\n",
      "'20' is a INTERGER ? True\n"
     ]
    }
   ],
   "source": [
    "numeric_int = 20\n",
    "print(type(numeric_int))\n",
    "print (\"'\" + str(numeric_int) + \"' is a INTERGER ? \" +str(isinstance(numeric_int, int)))"
   ]
  },
  {
   "cell_type": "code",
   "execution_count": 3,
   "metadata": {},
   "outputs": [
    {
     "name": "stdout",
     "output_type": "stream",
     "text": [
      "<class 'float'>\n",
      "'20.6' is a FLOAT ? True\n"
     ]
    }
   ],
   "source": [
    "numeric_float = 20.6\n",
    "print(type(numeric_float))\n",
    "print (\"'\" + str(numeric_float) + \"' is a FLOAT ? \" +str(isinstance(numeric_float, float)))"
   ]
  },
  {
   "cell_type": "code",
   "execution_count": 4,
   "metadata": {},
   "outputs": [
    {
     "name": "stdout",
     "output_type": "stream",
     "text": [
      "<class 'complex'>\n",
      "'1j' is a COMPLEX ? True\n"
     ]
    }
   ],
   "source": [
    "numeric_complex = 1j\n",
    "print(type(numeric_complex))\n",
    "print (\"'\" + str(numeric_complex) + \"' is a COMPLEX ? \" +str(isinstance(numeric_complex, complex)))"
   ]
  },
  {
   "cell_type": "code",
   "execution_count": 5,
   "metadata": {},
   "outputs": [
    {
     "name": "stdout",
     "output_type": "stream",
     "text": [
      "<class 'list'>\n",
      "'['apple', 'banana', 'cherry']' is a LIST ? True\n"
     ]
    }
   ],
   "source": [
    "sequence_list = [\"apple\", \"banana\", \"cherry\"]\n",
    "print(type(sequence_list))\n",
    "print (\"'\" + str(sequence_list) + \"' is a LIST ? \" +str(isinstance(sequence_list, list)))"
   ]
  },
  {
   "cell_type": "code",
   "execution_count": 6,
   "metadata": {},
   "outputs": [
    {
     "name": "stdout",
     "output_type": "stream",
     "text": [
      "<class 'tuple'>\n",
      "'('apple', 'banana', 'cherry')' is a TUPLE ? True\n"
     ]
    }
   ],
   "source": [
    "sequence_tuple = (\"apple\", \"banana\", \"cherry\")\n",
    "print(type(sequence_tuple))\n",
    "print (\"'\" + str(sequence_tuple) + \"' is a TUPLE ? \" +str(isinstance(sequence_tuple, tuple)))"
   ]
  },
  {
   "cell_type": "code",
   "execution_count": 7,
   "metadata": {},
   "outputs": [
    {
     "name": "stdout",
     "output_type": "stream",
     "text": [
      "<class 'range'>\n",
      "'range(0, 6)' is a RANGE ? True\n"
     ]
    }
   ],
   "source": [
    "sequence_range = range(6)\n",
    "print(type(sequence_range))\n",
    "print (\"'\" + str(sequence_range) + \"' is a RANGE ? \" +str(isinstance(sequence_range, range)))"
   ]
  },
  {
   "cell_type": "code",
   "execution_count": 8,
   "metadata": {},
   "outputs": [
    {
     "name": "stdout",
     "output_type": "stream",
     "text": [
      "<class 'dict'>\n",
      "'{'name': 'John', 'age': 36}' is a DICTORARY ? True\n"
     ]
    }
   ],
   "source": [
    "mapping_dict = {\"name\" : \"John\", \"age\" : 36}\n",
    "print(type(mapping_dict))\n",
    "print (\"'\" + str(mapping_dict) + \"' is a DICTORARY ? \" +str(isinstance(mapping_dict, dict)))"
   ]
  },
  {
   "cell_type": "code",
   "execution_count": 9,
   "metadata": {},
   "outputs": [
    {
     "name": "stdout",
     "output_type": "stream",
     "text": [
      "<class 'set'>\n",
      "'{'cherry', 'banana', 'apple'}' is a SET ? True\n"
     ]
    }
   ],
   "source": [
    "set_set = {\"apple\", \"banana\", \"cherry\"}\n",
    "print(type(set_set))\n",
    "print (\"'\" + str(set_set) + \"' is a SET ? \" +str(isinstance(set_set, set)))"
   ]
  },
  {
   "cell_type": "code",
   "execution_count": 10,
   "metadata": {},
   "outputs": [
    {
     "name": "stdout",
     "output_type": "stream",
     "text": [
      "<class 'frozenset'>\n",
      "'frozenset({'cherry', 'banana', 'apple'})' is a FROZEN SET ? True\n"
     ]
    }
   ],
   "source": [
    "set_frozenset = frozenset({\"apple\", \"banana\", \"cherry\"})\n",
    "print(type(set_frozenset))\n",
    "print (\"'\" + str(set_frozenset) + \"' is a FROZEN SET ? \" +str(isinstance(set_frozenset, frozenset)))"
   ]
  },
  {
   "cell_type": "code",
   "execution_count": 11,
   "metadata": {},
   "outputs": [
    {
     "name": "stdout",
     "output_type": "stream",
     "text": [
      "<class 'bool'>\n",
      "'True' is a BOOLEAN ? True\n"
     ]
    }
   ],
   "source": [
    "boolean_bool = True\n",
    "print(type(boolean_bool))\n",
    "print (\"'\" + str(boolean_bool) + \"' is a BOOLEAN ? \" +str(isinstance(boolean_bool, bool)))"
   ]
  },
  {
   "cell_type": "code",
   "execution_count": 12,
   "metadata": {},
   "outputs": [
    {
     "name": "stdout",
     "output_type": "stream",
     "text": [
      "<class 'bytes'>\n",
      "'b'Hello'' is a BYTES ? True\n"
     ]
    }
   ],
   "source": [
    "binary_bytes = b\"Hello\"\n",
    "print(type(binary_bytes))\n",
    "print (\"'\" + str(binary_bytes) + \"' is a BYTES ? \" +str(isinstance(binary_bytes, bytes)))"
   ]
  },
  {
   "cell_type": "code",
   "execution_count": 13,
   "metadata": {},
   "outputs": [
    {
     "name": "stdout",
     "output_type": "stream",
     "text": [
      "<class 'bytearray'>\n",
      "'bytearray(b'\\x00\\x00\\x00\\x00\\x00')' is a BYTE ARRAY ? True\n"
     ]
    }
   ],
   "source": [
    "binary_byteararry = bytearray(5)\n",
    "print(type(binary_byteararry))\n",
    "print (\"'\" + str(binary_byteararry) + \"' is a BYTE ARRAY ? \" +str(isinstance(binary_byteararry, bytearray)))"
   ]
  },
  {
   "cell_type": "code",
   "execution_count": 14,
   "metadata": {},
   "outputs": [
    {
     "name": "stdout",
     "output_type": "stream",
     "text": [
      "<class 'memoryview'>\n",
      "'<memory at 0x0000024548D12F48>' is a MEMORY VIEW ? True\n"
     ]
    }
   ],
   "source": [
    "binary_memoryview = memoryview(bytes(5))\n",
    "print(type(binary_memoryview))\n",
    "print (\"'\" + str(binary_memoryview) + \"' is a MEMORY VIEW ? \" +str(isinstance(binary_memoryview, memoryview)))"
   ]
  }
 ],
 "metadata": {
  "kernelspec": {
   "display_name": "Python 3",
   "language": "python",
   "name": "python3"
  },
  "language_info": {
   "codemirror_mode": {
    "name": "ipython",
    "version": 3
   },
   "file_extension": ".py",
   "mimetype": "text/x-python",
   "name": "python",
   "nbconvert_exporter": "python",
   "pygments_lexer": "ipython3",
   "version": "3.7.4"
  }
 },
 "nbformat": 4,
 "nbformat_minor": 2
}
