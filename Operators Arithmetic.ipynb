{
 "cells": [
  {
   "cell_type": "code",
   "execution_count": 44,
   "metadata": {},
   "outputs": [],
   "source": [
    "x = 5\n",
    "y = 2\n",
    "z = 3\n",
    "\n",
    "txt = \"t = {}\""
   ]
  },
  {
   "cell_type": "markdown",
   "metadata": {},
   "source": [
    "### Addition"
   ]
  },
  {
   "cell_type": "code",
   "execution_count": 45,
   "metadata": {},
   "outputs": [
    {
     "name": "stdout",
     "output_type": "stream",
     "text": [
      "t = 7\n"
     ]
    }
   ],
   "source": [
    "t = x + y\n",
    "print(txt.format(t))"
   ]
  },
  {
   "cell_type": "markdown",
   "metadata": {},
   "source": [
    "### Subtraction"
   ]
  },
  {
   "cell_type": "code",
   "execution_count": 48,
   "metadata": {},
   "outputs": [
    {
     "name": "stdout",
     "output_type": "stream",
     "text": [
      "t = 3\n"
     ]
    }
   ],
   "source": [
    "t = x - y\n",
    "print(txt.format(t))"
   ]
  },
  {
   "cell_type": "markdown",
   "metadata": {},
   "source": [
    "### Multiplication"
   ]
  },
  {
   "cell_type": "code",
   "execution_count": 49,
   "metadata": {},
   "outputs": [
    {
     "name": "stdout",
     "output_type": "stream",
     "text": [
      "t = 10\n"
     ]
    }
   ],
   "source": [
    "t = x * y\n",
    "print(txt.format(t))"
   ]
  },
  {
   "cell_type": "markdown",
   "metadata": {},
   "source": [
    "### Division"
   ]
  },
  {
   "cell_type": "code",
   "execution_count": 50,
   "metadata": {},
   "outputs": [
    {
     "name": "stdout",
     "output_type": "stream",
     "text": [
      "t = 2.5\n"
     ]
    }
   ],
   "source": [
    "t = x / y\n",
    "print(txt.format(t))"
   ]
  },
  {
   "cell_type": "markdown",
   "metadata": {},
   "source": [
    "### Modulus\n",
    "The modulus operator, sometimes also called the remainder operator or integer remainder operator works on integers (and integer expressions) and yields the remainder when the first operand is divided by the second. In Python, the modulus operator is a percent sign (%). The syntax is the same as for other operators.\n",
    "\n",
    "Example:\n",
    "\n",
    "(5*2) + 3  =>     \n",
    "10 + 3 =>      \n",
    "13            \n",
    "       \n",
    "      \n",
    "13 / 5  =>        \n",
    " 2 Remaider 3\n",
    "     \n",
    "    "
   ]
  },
  {
   "cell_type": "code",
   "execution_count": 58,
   "metadata": {},
   "outputs": [
    {
     "name": "stdout",
     "output_type": "stream",
     "text": [
      "x = 5, y = 2, z = 2\n",
      "(x * y) = 10, z = 2\n",
      "t = 2\n"
     ]
    }
   ],
   "source": [
    "print(\"x = {}, y = {}, z = {}\".format(x,y,z))\n",
    "\n",
    "print(\"(x * y) = {}, z = {}\".format((x * y),z))\n",
    "\n",
    "t = ((x * y) + z) % x\n",
    "print(txt.format(t))"
   ]
  },
  {
   "cell_type": "markdown",
   "metadata": {},
   "source": [
    "### Exponentiation"
   ]
  },
  {
   "cell_type": "code",
   "execution_count": 55,
   "metadata": {},
   "outputs": [
    {
     "name": "stdout",
     "output_type": "stream",
     "text": [
      "t = 25\n"
     ]
    }
   ],
   "source": [
    "z = x ** y\n",
    "print(txt.format(z))"
   ]
  },
  {
   "cell_type": "markdown",
   "metadata": {},
   "source": [
    "### Floor division\n",
    "Floor division is a normal division operation except that it returns the largest possible integer. This integer is either less than or equal to the normal division result.\n",
    "\n",
    "Example:\n",
    "\n",
    "(5*2) + 3  =>     \n",
    "10 + 3 =>      \n",
    "13            \n",
    "       \n",
    "      \n",
    "13 / 5  =>        \n",
    " 2 Remaider 3\n",
    "     \n",
    "    \n"
   ]
  },
  {
   "cell_type": "code",
   "execution_count": 57,
   "metadata": {},
   "outputs": [
    {
     "name": "stdout",
     "output_type": "stream",
     "text": [
      "x = 5, y = 2, z = 2\n",
      "(x * y) = 10, z = 2\n",
      "t = 2\n"
     ]
    }
   ],
   "source": [
    "print(\"x = {}, y = {}, z = {}\".format(x,y,z))\n",
    "\n",
    "print(\"(x * y) = {}, z = {}\".format((x * y),z))\n",
    "\n",
    "t = ((x * y) + z) // x\n",
    "print(txt.format(t))"
   ]
  }
 ],
 "metadata": {
  "kernelspec": {
   "display_name": "Python 3",
   "language": "python",
   "name": "python3"
  },
  "language_info": {
   "codemirror_mode": {
    "name": "ipython",
    "version": 3
   },
   "file_extension": ".py",
   "mimetype": "text/x-python",
   "name": "python",
   "nbconvert_exporter": "python",
   "pygments_lexer": "ipython3",
   "version": "3.8.5"
  }
 },
 "nbformat": 4,
 "nbformat_minor": 4
}
