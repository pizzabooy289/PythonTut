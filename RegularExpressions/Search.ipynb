{
 "cells": [
  {
   "cell_type": "markdown",
   "metadata": {},
   "source": [
    "# Search"
   ]
  },
  {
   "cell_type": "markdown",
   "metadata": {},
   "source": [
    "Search for string in the line of text. "
   ]
  },
  {
   "cell_type": "code",
   "execution_count": 2,
   "metadata": {},
   "outputs": [],
   "source": [
    "import re\n",
    "\n",
    "def Main():\n",
    "\n",
    "\n",
    "    searchResult = re.search(look_for , line, re.IGNORECASE|re.MULTILINE)\n",
    "    \n",
    "    \n",
    "    if searchResult:\n",
    "        print(\"Search Found: \" + searchResult.group())\n",
    "    else:\n",
    "        print(\"Nothing found in search\")\n",
    "        \n"
   ]
  },
  {
   "cell_type": "code",
   "execution_count": 3,
   "metadata": {},
   "outputs": [
    {
     "name": "stdout",
     "output_type": "stream",
     "text": [
      "Search Found: think\n"
     ]
    }
   ],
   "source": [
    "line = \"I think I understand regular expressions\"\n",
    "\n",
    "look_for = \"think\"\n",
    "\n",
    "if __name__ == '__main__':\n",
    "    Main()"
   ]
  }
 ],
 "metadata": {
  "kernelspec": {
   "display_name": "Python 3",
   "language": "python",
   "name": "python3"
  },
  "language_info": {
   "codemirror_mode": {
    "name": "ipython",
    "version": 3
   },
   "file_extension": ".py",
   "mimetype": "text/x-python",
   "name": "python",
   "nbconvert_exporter": "python",
   "pygments_lexer": "ipython3",
   "version": "3.7.4"
  }
 },
 "nbformat": 4,
 "nbformat_minor": 2
}
