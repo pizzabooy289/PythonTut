{
 "cells": [
  {
   "cell_type": "markdown",
   "metadata": {},
   "source": [
    "# Template"
   ]
  },
  {
   "cell_type": "markdown",
   "metadata": {},
   "source": [
    "## String Template Class in Python"
   ]
  },
  {
   "cell_type": "markdown",
   "metadata": {},
   "source": [
    "```\n",
    "In String module, Template Class allows us to create simplified syntax for output specification. \n",
    "\n",
    "The format uses placeholder names formed by $ with valid Python identifiers (alphanumeric characters and underscores). \n",
    "\n",
    "Surrounding the placeholder with braces allows it to be followed by more alphanumeric letters with no intervening spaces. Writing $$ creates a single escaped $:\n",
    "\n",
    "```"
   ]
  },
  {
   "cell_type": "markdown",
   "metadata": {},
   "source": [
    "## Example "
   ]
  },
  {
   "cell_type": "code",
   "execution_count": 4,
   "metadata": {},
   "outputs": [],
   "source": [
    "# A Simple Python templaye example \n",
    "from string import Template "
   ]
  },
  {
   "cell_type": "code",
   "execution_count": 5,
   "metadata": {},
   "outputs": [],
   "source": [
    "# Create a template that has placeholder for value of x \n",
    "t = Template('x is $x') "
   ]
  },
  {
   "cell_type": "code",
   "execution_count": 6,
   "metadata": {},
   "outputs": [
    {
     "name": "stdout",
     "output_type": "stream",
     "text": [
      "x is 1\n"
     ]
    }
   ],
   "source": [
    "# Substitute value of x in above template \n",
    "print (t.substitute({'x' : 1})) "
   ]
  },
  {
   "cell_type": "markdown",
   "metadata": {},
   "source": [
    "## Example "
   ]
  },
  {
   "cell_type": "code",
   "execution_count": 2,
   "metadata": {},
   "outputs": [
    {
     "name": "stdout",
     "output_type": "stream",
     "text": [
      "Cart:\n",
      "2 x Coke = 8\n",
      "Total: 8\n"
     ]
    }
   ],
   "source": [
    "from string import Template\n",
    "\n",
    "def Main():\n",
    "\n",
    "    cart = []\n",
    "    cart.append(dict(item='Coke', price=8, qty=2 ))\n",
    "    \n",
    "    t = Template('$qty x $item = $price')\n",
    "    total = 0\n",
    "    print('Cart:')\n",
    "    \n",
    "    for data in cart:\n",
    "        print(t.substitute(data))\n",
    "        total += data['price']\n",
    "        \n",
    "    print('Total: ' + str(total) )\n",
    "   \n",
    "    \n",
    "if __name__ == '__main__':\n",
    "    Main()"
   ]
  }
 ],
 "metadata": {
  "kernelspec": {
   "display_name": "Python 3",
   "language": "python",
   "name": "python3"
  },
  "language_info": {
   "codemirror_mode": {
    "name": "ipython",
    "version": 3
   },
   "file_extension": ".py",
   "mimetype": "text/x-python",
   "name": "python",
   "nbconvert_exporter": "python",
   "pygments_lexer": "ipython3",
   "version": "3.7.4"
  }
 },
 "nbformat": 4,
 "nbformat_minor": 2
}
