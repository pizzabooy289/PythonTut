{
 "cells": [
  {
   "cell_type": "markdown",
   "metadata": {},
   "source": [
    "# MultiThreading"
   ]
  },
  {
   "cell_type": "code",
   "execution_count": 1,
   "metadata": {},
   "outputs": [],
   "source": [
    "from threading import Thread\n",
    "import time"
   ]
  },
  {
   "cell_type": "code",
   "execution_count": 2,
   "metadata": {},
   "outputs": [],
   "source": [
    "def timer(name, delay, repeat):\n",
    "\n",
    "    print(\"Timer: \" + name + \"Started\")\n",
    "    while repeat > 0:\n",
    "        time.sleep(delay)\n",
    "        print(name + \" : \" + str(time.ctime(time.time())))\n",
    "        repeat -= 1\n",
    "        \n",
    "    print(\"Timer: \" + name + \"Completed\")"
   ]
  },
  {
   "cell_type": "code",
   "execution_count": 3,
   "metadata": {},
   "outputs": [],
   "source": [
    "def Main():\n",
    "\n",
    "    t1 = Thread( target=timer, args=(\"Timer1\", 1, 5))\n",
    "    t2 = Thread( target=timer, args=(\"Timer2\", 2, 5))\n",
    "    \n",
    "    t1.start()\n",
    "    t2.start()\n",
    "    \n",
    "    print(\"Main Completed\")"
   ]
  },
  {
   "cell_type": "code",
   "execution_count": 4,
   "metadata": {},
   "outputs": [
    {
     "name": "stdout",
     "output_type": "stream",
     "text": [
      "Timer: Timer1Started\n",
      "Timer: Timer2Started\n",
      "Main Completed\n",
      "Timer1 : Thu Jul  2 10:19:58 2020\n",
      "Timer2 : Thu Jul  2 10:19:59 2020Timer1 : Thu Jul  2 10:19:59 2020\n",
      "\n",
      "Timer1 : Thu Jul  2 10:20:00 2020\n",
      "Timer2 : Thu Jul  2 10:20:01 2020\n",
      "Timer1 : Thu Jul  2 10:20:01 2020\n",
      "Timer1 : Thu Jul  2 10:20:02 2020\n",
      "Timer: Timer1Completed\n",
      "Timer2 : Thu Jul  2 10:20:03 2020\n",
      "Timer2 : Thu Jul  2 10:20:05 2020\n",
      "Timer2 : Thu Jul  2 10:20:07 2020\n",
      "Timer: Timer2Completed\n"
     ]
    }
   ],
   "source": [
    "\n",
    "if __name__ == '__main__':\n",
    "    Main()"
   ]
  }
 ],
 "metadata": {
  "kernelspec": {
   "display_name": "Python 3",
   "language": "python",
   "name": "python3"
  },
  "language_info": {
   "codemirror_mode": {
    "name": "ipython",
    "version": 3
   },
   "file_extension": ".py",
   "mimetype": "text/x-python",
   "name": "python",
   "nbconvert_exporter": "python",
   "pygments_lexer": "ipython3",
   "version": "3.7.4"
  }
 },
 "nbformat": 4,
 "nbformat_minor": 2
}
