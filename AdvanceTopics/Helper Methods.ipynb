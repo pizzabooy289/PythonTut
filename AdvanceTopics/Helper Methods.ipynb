{
 "cells": [
  {
   "cell_type": "markdown",
   "metadata": {},
   "source": [
    "# Helper Methods"
   ]
  },
  {
   "cell_type": "markdown",
   "metadata": {},
   "source": [
    "The greatest common divisor (gcd/GCD), or the greatest common factor (gcf), or highest common factor (hcf), of two or more integers (at least one of which is not zero), is the largest positive integer that divides the numbers without a remainder.\n",
    "\n",
    "greatest common divisor calculate: https://www.hackmath.net/en/calculator/greatest-common-divisor\n",
    "\n",
    "divisors calculate: https://www.hackmath.net/en/calculator/divisors"
   ]
  },
  {
   "cell_type": "markdown",
   "metadata": {},
   "source": [
    "## Gretest Common Divisor (gcd) is a example of HELPER METHOD"
   ]
  },
  {
   "cell_type": "code",
   "execution_count": 1,
   "metadata": {},
   "outputs": [],
   "source": [
    "def gcd(a,b): \n",
    "    if a > b: a,b = b,a\n",
    "    while True:\n",
    "        if b % a == 0: return a\n",
    "        a, b = b%a, a"
   ]
  },
  {
   "cell_type": "code",
   "execution_count": 2,
   "metadata": {},
   "outputs": [],
   "source": [
    "class Fraction(object):\n",
    "    def __init__(self, a, b):\n",
    "        if( gcd(a,b) > 1):\n",
    "            self.d =  gcd(a,b) \n",
    "            \n",
    "    def answer(self):\n",
    "        return self.d"
   ]
  },
  {
   "cell_type": "code",
   "execution_count": 3,
   "metadata": {},
   "outputs": [],
   "source": [
    "# Divisors of 12 are 1, 2, 3, 4, 6,   12      \n",
    "# Divisors of 8  are 1, 2,    4,    8         \n",
    "# ANSWER IS : 4           "
   ]
  },
  {
   "cell_type": "code",
   "execution_count": 4,
   "metadata": {},
   "outputs": [
    {
     "name": "stdout",
     "output_type": "stream",
     "text": [
      " GCD (8,12) = 4\n"
     ]
    }
   ],
   "source": [
    "f = Fraction(8,12)\n",
    "\n",
    "print ( ' GCD (8,12) = {}'.format ( f.answer() ))\n"
   ]
  },
  {
   "cell_type": "code",
   "execution_count": 5,
   "metadata": {},
   "outputs": [],
   "source": [
    "# Divisors of 6 are 1,2,3,  6\n",
    "# Divisors of 8 are 1,2,  4,  8"
   ]
  },
  {
   "cell_type": "code",
   "execution_count": 6,
   "metadata": {},
   "outputs": [
    {
     "name": "stdout",
     "output_type": "stream",
     "text": [
      " GCD (6,8) = 2\n"
     ]
    }
   ],
   "source": [
    "f = Fraction(6,8)\n",
    "\n",
    "print ( ' GCD (6,8) = {}'.format ( f.answer() ) )"
   ]
  }
 ],
 "metadata": {
  "kernelspec": {
   "display_name": "Python 3",
   "language": "python",
   "name": "python3"
  },
  "language_info": {
   "codemirror_mode": {
    "name": "ipython",
    "version": 3
   },
   "file_extension": ".py",
   "mimetype": "text/x-python",
   "name": "python",
   "nbconvert_exporter": "python",
   "pygments_lexer": "ipython3",
   "version": "3.7.4"
  }
 },
 "nbformat": 4,
 "nbformat_minor": 2
}
