{
 "cells": [
  {
   "cell_type": "markdown",
   "metadata": {},
   "source": [
    "# Assignment Operators"
   ]
  },
  {
   "cell_type": "markdown",
   "metadata": {},
   "source": [
    "\n",
    "| Operator      | Example          | Same As         | \n",
    "| ------------- | ---------------  | --------------- |\n",
    "|    =          | x = 5            |x = 5            |\n",
    "|    +=         | x += 3           |x = x + 3        |\n",
    "|    -=         | x -= 3           |x = x - 3        |\n",
    "|    *=         | x *= 3           |x = x * 3        |\n",
    "|    /=         | x /= 3           |x = x / 3        |\n",
    "|    %=         | x %= 3           |x = x % 3        |\n",
    "|   //=         |x //= 3           |x = x // 3       |\n",
    "|   **=         |x **= 3           |x = x ** 3       |\n",
    "|   &=          |x &= 3            |x = x & 3        |\n",
    "|   &#124;=     |x  &#124; = 3     |x = x  &#124; 3  |\n",
    "|   ^=          |x ^= 3            |x = x ^ 3        |\n",
    "|   >>=         |x >>= 3           |x = x >> 3       |\n",
    "|   <<=         |x <<= 3           |x = x << 3       |\n"
   ]
  },
  {
   "cell_type": "code",
   "execution_count": null,
   "metadata": {
    "collapsed": true
   },
   "outputs": [],
   "source": []
  }
 ],
 "metadata": {
  "kernelspec": {
   "display_name": "Python [conda root]",
   "language": "python",
   "name": "conda-root-py"
  },
  "language_info": {
   "codemirror_mode": {
    "name": "ipython",
    "version": 3
   },
   "file_extension": ".py",
   "mimetype": "text/x-python",
   "name": "python",
   "nbconvert_exporter": "python",
   "pygments_lexer": "ipython3",
   "version": "3.5.2"
  }
 },
 "nbformat": 4,
 "nbformat_minor": 1
}
